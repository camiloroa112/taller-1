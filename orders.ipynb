{
 "cells": [
  {
   "cell_type": "markdown",
   "metadata": {},
   "source": [
    "### Menú Bebidas\n",
    "- Bienvenido al Bebidas SAS, estamos contentos de cumplir 20 años de servicio a nuestros clientes. \n",
    "- Al ejecutar la siguiente celda, el usuario podrá escoger la bebida deseada por su identificador.\n",
    "- Las cantidades también podrán ser seleccionadas en otra entrada. \n",
    "Esperamos que nuestros productos disponibles sean de su total agrado y frescura. \n",
    "#### No olviden que no hay nada mejor que una bebida helada."
   ]
  },
  {
   "cell_type": "code",
   "execution_count": null,
   "metadata": {},
   "outputs": [],
   "source": [
    "# Function Importing\n",
    "from assets.products import desired_product\n",
    "desired_product()"
   ]
  }
 ],
 "metadata": {
  "kernelspec": {
   "display_name": "base",
   "language": "python",
   "name": "python3"
  },
  "language_info": {
   "codemirror_mode": {
    "name": "ipython",
    "version": 3
   },
   "file_extension": ".py",
   "mimetype": "text/x-python",
   "name": "python",
   "nbconvert_exporter": "python",
   "pygments_lexer": "ipython3",
   "version": "3.11.4"
  }
 },
 "nbformat": 4,
 "nbformat_minor": 2
}
